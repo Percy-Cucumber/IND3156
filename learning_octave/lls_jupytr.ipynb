{
 "cells": [
  {
   "cell_type": "markdown",
   "metadata": {},
   "source": [
    "# Linear Least Squares modelling\n",
    "This page addresses least-squares fitting using both linear algebra and gradient descent. We base some of our exposition on the <a href=\"https://en.wikipedia.org/wiki/Linear_least_squares_(mathematics)\">wikipedia page</a> for linear least squares which is mostly linear algebra.\n",
    "## Gradient descent\n",
    "### straight-line hypothesis\n",
    "For the most part, this algorithm avoids vector operations in favor of iterating over indices but does use a few linear algebra expressions to simplify the computation of function values. Thus, `numpy` is needed not only for inputting matrices, but for a few computations."
   ]
  },
  {
   "cell_type": "code",
   "execution_count": 6,
   "metadata": {},
   "outputs": [],
   "source": [
    "import numpy as np\n",
    "import matplotlib.pyplot as plt\n",
    "%matplotlib inline  "
   ]
  },
  {
   "cell_type": "markdown",
   "metadata": {},
   "source": [
    "We may set the maximum number of iterations, the learning rate $\\alpha$, and the tolerance for conversion, given here as the fractional improvement over the preceding iteration. Setting too large of a value of $\\alpha$ may result in the iterations diverging (although once the floating-point maximum is reached, the algorithm will claim convergence because the fractional change from the preceding iteration will be small)."
   ]
  },
  {
   "cell_type": "code",
   "execution_count": 7,
   "metadata": {},
   "outputs": [],
   "source": [
    "max_iter = 30000\n",
    "alpha = 1.0E-1\n",
    "tol = 1.0E-7"
   ]
  },
  {
   "cell_type": "markdown",
   "metadata": {},
   "source": [
    "Input the data."
   ]
  },
  {
   "cell_type": "code",
   "execution_count": 8,
   "metadata": {},
   "outputs": [],
   "source": [
    "#target_url = 'http://www.ncl.ucar.edu/Applications/Data/asc/asc2.txt'\n",
    "#target_url = 'http://www.eg.bucknell.edu/physics/ASTR201/IDLTutorial/spectrum.txt'\n",
    "target_url = 'http://web.cecs.pdx.edu/~gerry/MATLAB/plotting/examples/PDXprecip.dat'\n",
    "import csv\n",
    "import urllib.request as urllib2\n",
    "target_response = urllib2.urlopen(target_url)\n",
    "input = np.loadtxt(target_response,delimiter=\"\\t\",skiprows=1)"
   ]
  },
  {
   "cell_type": "markdown",
   "metadata": {},
   "source": [
    "If you don't have a nice online set to grab, as above, then uncomment the small array below."
   ]
  },
  {
   "cell_type": "code",
   "execution_count": 9,
   "metadata": {},
   "outputs": [],
   "source": [
    "#input = np.array([\n",
    "#    [1, 6],\n",
    "#    [2, 5],\n",
    "#    [3, 7],\n",
    "#    [4, 10],\n",
    "#    [5,11],\n",
    "#    [0,6]\n",
    "#])"
   ]
  },
  {
   "cell_type": "markdown",
   "metadata": {},
   "source": [
    "Automatically detect the necessary dimensions. As per convention, `m` is the number of training examples (that is, data points) and `n` is the number of parameters."
   ]
  },
  {
   "cell_type": "code",
   "execution_count": 10,
   "metadata": {},
   "outputs": [],
   "source": [
    "m,n = input.shape"
   ]
  },
  {
   "cell_type": "markdown",
   "metadata": {},
   "source": [
    "From these data we construct the matrix ${\\mathbf X}$ and the vector $y$."
   ]
  },
  {
   "cell_type": "code",
   "execution_count": 11,
   "metadata": {},
   "outputs": [],
   "source": [
    "X = np.matrix([np.ones(m), input[:,0]]).T\n",
    "y = np.matrix([input[:,n-1]]).T"
   ]
  },
  {
   "cell_type": "markdown",
   "metadata": {},
   "source": [
    "The parameters of the fit&mdash;the vector $\\beta$&mdash;are initialized as `1` to start."
   ]
  },
  {
   "cell_type": "code",
   "execution_count": 12,
   "metadata": {},
   "outputs": [],
   "source": [
    "beta = np.array([ np.ones(n) ]).T"
   ]
  },
  {
   "cell_type": "markdown",
   "metadata": {},
   "source": [
    "And a temporary vector of the same size for storing the parameters for simultaneous update."
   ]
  },
  {
   "cell_type": "code",
   "execution_count": 13,
   "metadata": {},
   "outputs": [],
   "source": [
    "temp = np.array([ np.ones(len(beta)) ]).T"
   ]
  },
  {
   "cell_type": "markdown",
   "metadata": {},
   "source": [
    "Automatically scale the features by the maximum value in each column. Ideally, we would use both mean ($\\mu$) normalization and more robust scaling by the dispersion $\\sigma$ rather than the max, for example\n",
    "$$ x_\\text{scaled} = \\frac{1}{\\sigma}(x-\\mu)\\ .$$\n",
    "We also save each scaling value in the vector `scale`."
   ]
  },
  {
   "cell_type": "code",
   "execution_count": 14,
   "metadata": {},
   "outputs": [],
   "source": [
    "scale = np.array((np.amax(X,axis=0))).T\n",
    "for j in range(n):\n",
    "    for i in range(m):\n",
    "        X[i,j] = X[i,j] / scale[j]"
   ]
  },
  {
   "cell_type": "markdown",
   "metadata": {},
   "source": [
    "We initialize the loop count, loop gain, and metric."
   ]
  },
  {
   "cell_type": "code",
   "execution_count": 15,
   "metadata": {},
   "outputs": [],
   "source": [
    "gain = tol + 1.\n",
    "count = 0\n",
    "S = 1."
   ]
  },
  {
   "cell_type": "markdown",
   "metadata": {},
   "source": [
    "The main loop of the iteration in which $$\\begin{align*} \\beta_i &= \\beta_i - \\alpha\\frac{1}{2m}\\frac{\\partial}{\\partial \\beta_i}\\,S \\\\ &= \\beta_i - \\alpha\\frac{1}{m}\\sum_m\\left( {\\mathbf X}\\beta - y\\right)x_i\\ ,   \\end{align*}$$ where $x_i$ is the value of the independent coordinate (or \"feature\") from ${\\mathbf X}$ for the $i$th element of $\\beta$, where the \"hypothesis\" appears here only as the matrix product ${\\mathbf X}\\beta$, where $S(\\beta) = ({\\mathbf X}\\beta-y)^2$ is the least-squares minimization metric, and where the sum is over the number of data points&mdash;that is, the length of the $y$ vector. We proceed as long as we have not looped more than the desired maximum number of times and as long as the gain does not compare favorably to the stopping tolerance. Here, `beta = temp` is the update and `S` is the square of the residuals (for simplicity, computed directly as the dot product of the vector difference)."
   ]
  },
  {
   "cell_type": "code",
   "execution_count": 16,
   "metadata": {},
   "outputs": [
    {
     "name": "stdout",
     "output_type": "stream",
     "text": [
      "After 3000 counts the sum of the squares of the residuals is 26.707\n",
      "After 6000 counts the sum of the squares of the residuals is 26.707\n",
      "After 9000 counts the sum of the squares of the residuals is 26.707\n",
      "After 12000 counts the sum of the squares of the residuals is 26.707\n",
      "After 15000 counts the sum of the squares of the residuals is 26.707\n",
      "After 18000 counts the sum of the squares of the residuals is 26.707\n",
      "After 21000 counts the sum of the squares of the residuals is 26.707\n",
      "After 24000 counts the sum of the squares of the residuals is 26.707\n",
      "After 27000 counts the sum of the squares of the residuals is 26.707\n",
      "After 30000 counts the sum of the squares of the residuals is 26.707\n",
      "Converged in 30000 iterations\n",
      "[[ 1.57045455]\n",
      " [ 2.1       ]]\n"
     ]
    }
   ],
   "source": [
    "while gain > tol and count < max_iter:\n",
    "    for i in range(len(beta)):\n",
    "        temp[i] = beta[i] - alpha/m*np.sum( np.dot( (np.dot( X,beta )-y).T,X[:,i] ) )\n",
    "        # the above line should be able to be done as a vector difference rather than iterate through i; \n",
    "        # that is, we are currently using the ith column of X but we should be able to set that better (?)\n",
    "    beta = temp\n",
    "    count = count + 1\n",
    "    S = np.dot( (np.dot(X,beta)-y).T,np.dot(X,beta)-y )\n",
    "    gain = abs( (gain - S)/gain )\n",
    "    if count%3000==0:\n",
    "        print('After %4d counts the sum of the squares of the residuals is %.3f' % (count, S))\n",
    "        \n",
    "print('Converged in %d iterations' % count)\n",
    "print(beta) "
   ]
  },
  {
   "cell_type": "markdown",
   "metadata": {},
   "source": [
    "We remove the scaling from $\\beta$ before plotting the model against the raw data."
   ]
  },
  {
   "cell_type": "code",
   "execution_count": 17,
   "metadata": {},
   "outputs": [
    {
     "name": "stdout",
     "output_type": "stream",
     "text": [
      "[[ 1.57045455]\n",
      " [ 0.175     ]]\n"
     ]
    }
   ],
   "source": [
    "beta = np.divide(beta,scale)\n",
    "print(beta)"
   ]
  },
  {
   "cell_type": "markdown",
   "metadata": {},
   "source": [
    "And the plot."
   ]
  },
  {
   "cell_type": "code",
   "execution_count": 18,
   "metadata": {},
   "outputs": [
    {
     "data": {
      "image/png": "[encoded data removed]",
      "text/plain": [
       "<Figure size 432x288 with 1 Axes>"
      ]
     },
     "metadata": {},
     "output_type": "display_data"
    }
   ],
   "source": [
    "# unscale X for testing\n",
    "for j in range(n):\n",
    "    for i in range(m):\n",
    "        X[i,j] = X[i,j] * scale[j]\n",
    "#\n",
    "plt.figure(1)\n",
    "xmin=np.amin(input,axis=0)\n",
    "xmax=np.amax(input,axis=0)\n",
    "xx = np.linspace(xmin[0], xmax[0], num=20)\n",
    "yy1 = np.array(beta[0] + beta[1] * xx)\n",
    "plt.plot(xx, yy1.T, 'b')\n",
    "#plt.scatter(X[:,1], y, 'r')\n",
    "plt.scatter(input[:,0], input[:,1], color='r') # equivalently\n",
    "plt.show()   "
   ]
  },
  {
   "cell_type": "markdown",
   "metadata": {},
   "source": [
    "### quadratic hypothesis\n",
    "As with our treatment for the normal equation fit, we will change ${\\mathbf X}$ to also contain the square of $x$ so that we may fit a quadratic."
   ]
  },
  {
   "cell_type": "code",
   "execution_count": 19,
   "metadata": {},
   "outputs": [
    {
     "name": "stdout",
     "output_type": "stream",
     "text": [
      "After 3000 counts the sum of the squares of the residuals is 11.450\n",
      "After 6000 counts the sum of the squares of the residuals is 6.241\n",
      "After 9000 counts the sum of the squares of the residuals is 4.185\n",
      "After 12000 counts the sum of the squares of the residuals is 3.373\n",
      "After 15000 counts the sum of the squares of the residuals is 3.052\n",
      "After 18000 counts the sum of the squares of the residuals is 2.926\n",
      "After 21000 counts the sum of the squares of the residuals is 2.876\n",
      "After 24000 counts the sum of the squares of the residuals is 2.856\n",
      "After 27000 counts the sum of the squares of the residuals is 2.848\n",
      "After 30000 counts the sum of the squares of the residuals is 2.845\n",
      "Converged in 30000 iterations\n",
      "[[  8.01151987]\n",
      " [-25.65647717]\n",
      " [ 23.79689182]]\n",
      "[[ 8.01151987]\n",
      " [-2.13803976]\n",
      " [ 0.16525619]]\n"
     ]
    },
    {
     "data": {
      "image/png": "[encoded data removed]",
      "text/plain": [
       "<Figure size 432x288 with 1 Axes>"
      ]
     },
     "metadata": {},
     "output_type": "display_data"
    }
   ],
   "source": [
    "X = np.matrix([np.ones(m), input[:,0], input[:,0]**2]).T\n",
    "scale = np.array(np.amax(X,axis=0)).T\n",
    "for j in range(n+1):\n",
    "    for i in range(m):\n",
    "        X[i,j] = X[i,j] / scale[j]\n",
    "beta = np.array([ np.ones(n+1) ]).T\n",
    "temp = np.array([ np.ones(len(beta)) ]).T\n",
    "\n",
    "gain = tol + 1.\n",
    "count = 0\n",
    "S = 1.\n",
    "while gain > tol and count < max_iter:\n",
    "    for i in range(len(beta)):\n",
    "        temp[i] = beta[i] - alpha/m*np.sum( np.dot( (np.dot( X,beta )-y).T,X[:,i] ) )\n",
    "        # the above line should be able to be done as a vector difference rather than iterate through i; \n",
    "        # that is, we are currently using the ith column of X but we should be able to set that better (?)\n",
    "    beta = temp\n",
    "    count = count + 1\n",
    "    S = np.dot( (np.dot(X,beta)-y).T,np.dot(X,beta)-y )\n",
    "    gain = abs( (gain - S)/gain )\n",
    "    if count%3000==0:\n",
    "        print('After %4d counts the sum of the squares of the residuals is %.3f' % (count, S))\n",
    "        \n",
    "print('Converged in %d iterations' % count)\n",
    "print(beta)\n",
    "beta = np.divide(beta,scale)\n",
    "print(beta)\n",
    "\n",
    "plt.figure(2)\n",
    "yy2 = np.array( beta[0] + beta[1]*xx + beta[2]*xx**2 )\n",
    "\n",
    "plt.plot(xx, yy1.T, color='b')\n",
    "plt.plot(xx, yy2.T, color='g')\n",
    "plt.scatter(input[:,0], input[:,1], color='r')\n",
    "plt.show()"
   ]
  },
  {
   "cell_type": "markdown",
   "metadata": {},
   "source": [
    "## Normal Equations\n",
    "This section fits the same data using linear algebra to solve the minimized system.\n",
    "### straight line model\n",
    "First we reset the ${\\mathbf X}$ matrix for a simple line fit."
   ]
  },
  {
   "cell_type": "code",
   "execution_count": 20,
   "metadata": {},
   "outputs": [],
   "source": [
    "X = np.matrix([np.ones(m), input[:,0]]).T"
   ]
  },
  {
   "cell_type": "markdown",
   "metadata": {},
   "source": [
    "And the solution for the $\\beta$ vector of parameters is simply"
   ]
  },
  {
   "cell_type": "code",
   "execution_count": 21,
   "metadata": {},
   "outputs": [],
   "source": [
    "beta = np.linalg.inv(X.T.dot(X)).dot(X.T).dot(y)"
   ]
  },
  {
   "cell_type": "markdown",
   "metadata": {},
   "source": [
    "For which we can make a plot as before."
   ]
  },
  {
   "cell_type": "code",
   "execution_count": 22,
   "metadata": {},
   "outputs": [
    {
     "data": {
      "image/png": "[encoded data removed]",
      "text/plain": [
       "<Figure size 432x288 with 1 Axes>"
      ]
     },
     "metadata": {},
     "output_type": "display_data"
    }
   ],
   "source": [
    "plt.figure(3)\n",
    "yy3 = np.array(beta[0] + beta[1] * xx)\n",
    "plt.plot(xx, yy3.T, color='b')\n",
    "plt.scatter(input[:,0], input[:,1], color='r')\n",
    "plt.show()"
   ]
  },
  {
   "cell_type": "markdown",
   "metadata": {},
   "source": [
    "### quadratic model\n",
    "Now we fit a 2nd-degree polynomial by building a different ${\\mathbf X}$ matrix. ${\\mathbf X}$ as used above is"
   ]
  },
  {
   "cell_type": "code",
   "execution_count": 23,
   "metadata": {},
   "outputs": [
    {
     "name": "stdout",
     "output_type": "stream",
     "text": [
      "[[  1.   2.]\n",
      " [  1.   3.]\n",
      " [  1.   4.]\n",
      " [  1.   5.]\n",
      " [  1.   6.]\n",
      " [  1.   7.]\n",
      " [  1.   8.]\n",
      " [  1.   9.]\n",
      " [  1.  10.]\n",
      " [  1.  11.]\n",
      " [  1.  12.]]\n"
     ]
    }
   ],
   "source": [
    "print(X)"
   ]
  },
  {
   "cell_type": "markdown",
   "metadata": {},
   "source": [
    "We instead want to load it such that $x^2$ is its own variable, or \"feature.\""
   ]
  },
  {
   "cell_type": "code",
   "execution_count": 24,
   "metadata": {},
   "outputs": [
    {
     "name": "stdout",
     "output_type": "stream",
     "text": [
      "[[   1.    2.    4.]\n",
      " [   1.    3.    9.]\n",
      " [   1.    4.   16.]\n",
      " [   1.    5.   25.]\n",
      " [   1.    6.   36.]\n",
      " [   1.    7.   49.]\n",
      " [   1.    8.   64.]\n",
      " [   1.    9.   81.]\n",
      " [   1.   10.  100.]\n",
      " [   1.   11.  121.]\n",
      " [   1.   12.  144.]]\n"
     ]
    }
   ],
   "source": [
    "X = np.matrix([np.ones(m), input[:,0], (input[:,0])**2]).T\n",
    "print(X)"
   ]
  },
  {
   "cell_type": "markdown",
   "metadata": {},
   "source": [
    "It is unnecessary to scale the independent variables when solving the system simultaneously (as it was in the algorithm for gradient descent) since their relative magnitudes do not enter the computation. The normal equations for $ y = \\beta_0 + \\beta_1 x + \\beta_2 x^2 $ yield our new fit for which, as usual, the $\\beta$ vector ($\\hat{\\beta}$ on the wikipedia page) is the optimized values of the coefficients."
   ]
  },
  {
   "cell_type": "code",
   "execution_count": 20,
   "metadata": {},
   "outputs": [
    {
     "name": "stdout",
     "output_type": "stream",
     "text": [
      "[[ 8.07454545]\n",
      " [-2.15980186]\n",
      " [ 0.16677156]]\n"
     ]
    }
   ],
   "source": [
    "beta = np.linalg.inv(X.T.dot(X)).dot(X.T).dot(y)\n",
    "print(beta)"
   ]
  },
  {
   "cell_type": "markdown",
   "metadata": {},
   "source": [
    "Below is the updated plotting code to match. Note that `beta[2]*xx*xx` would not mean $\\beta_2x^2$; it must be coded as `beta[2]*xx**2`."
   ]
  },
  {
   "cell_type": "code",
   "execution_count": 21,
   "metadata": {},
   "outputs": [
    {
     "data": {
      "image/png": "[encoded data removed]",
      "text/plain": [
       "<Figure size 432x288 with 1 Axes>"
      ]
     },
     "metadata": {},
     "output_type": "display_data"
    }
   ],
   "source": [
    "plt.figure(4)\n",
    "yy4 = np.array( beta[0] + beta[1]*xx + beta[2]*xx**2 )\n",
    "\n",
    "plt.plot(xx, yy3.T, color='b')\n",
    "plt.plot(xx, yy4.T, color='g')\n",
    "plt.scatter(input[:,0], input[:,1], color='r')\n",
    "plt.show()"
   ]
  },
  {
   "cell_type": "markdown",
   "metadata": {},
   "source": [
    "For comparison, we reproduce the previous plots alongside the quadratic fits from each of the two methods."
   ]
  },
  {
   "cell_type": "code",
   "execution_count": 22,
   "metadata": {},
   "outputs": [
    {
     "data": {
      "image/png": "[encoded data removed]",
      "text/plain": [
       "<Figure size 1440x288 with 3 Axes>"
      ]
     },
     "metadata": {},
     "output_type": "display_data"
    }
   ],
   "source": [
    "import matplotlib\n",
    "matplotlib.rcParams['figure.figsize'] = (20.0, 4.0)\n",
    "plt.figure(5)\n",
    "plt.subplot(1,3,1)\n",
    "plt.plot(xx, yy1.T, color='b')\n",
    "plt.plot(xx, yy2.T, color='c')\n",
    "plt.scatter(input[:,0], input[:,1], color='r')\n",
    "plt.title(\"gradient descent\")\n",
    "plt.subplot(1,3,2)\n",
    "plt.plot(xx, yy3.T, color='g')\n",
    "plt.plot(xx, yy4.T, color='m')\n",
    "plt.scatter(input[:,0], input[:,1], color='r')\n",
    "plt.title(\"normal equations\")\n",
    "plt.subplot(1,3,3)\n",
    "plt.plot(xx, yy2.T, color='c')\n",
    "plt.plot(xx, yy4.T, color='m')\n",
    "plt.scatter(input[:,0], input[:,1], color='r')\n",
    "plt.title(\"comparison\")\n",
    "plt.show()"
   ]
  },
  {
   "cell_type": "code",
   "execution_count": null,
   "metadata": {},
   "outputs": [],
   "source": []
  }
 ],
 "metadata": {
  "kernelspec": {
   "display_name": "Python 3",
   "language": "python",
   "name": "python3"
  },
  "language_info": {
   "codemirror_mode": {
    "name": "ipython",
    "version": 3
   },
   "file_extension": ".py",
   "mimetype": "text/x-python",
   "name": "python",
   "nbconvert_exporter": "python",
   "pygments_lexer": "ipython3",
   "version": "3.6.5"
  }
 },
 "nbformat": 4,
 "nbformat_minor": 1
}
