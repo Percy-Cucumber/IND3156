{
 "cells": [
  {
   "cell_type": "markdown",
   "metadata": {},
   "source": [
    "# Learning & Exploring the Go Language\n",
    "###### My notebook for everything to do with Golang."
   ]
  },
  {
   "cell_type": "markdown",
   "metadata": {},
   "source": [
    "    "
   ]
  },
  {
   "cell_type": "markdown",
   "metadata": {},
   "source": [
    "# Notes from YouTube Tutorial\n",
    "###### Referenced Jake Wright @ https://www.youtube.com/watch?v=C8LgvuEBraI"
   ]
  },
  {
   "cell_type": "markdown",
   "metadata": {},
   "source": [
    "Creating a Go is project different from other languages.\n",
    "The idea of Go is that all of your projects live in the same place.\n",
    "This place is called your **workspace**.\n",
    "By default, this is a folder called `go` in your home directory.\n",
    "You can see this by typing `go env goPATH`.\n",
    "Inside this is a folder named `src`.\n",
    "This is where all of the source code goes.\n",
    "You can create a folder for each of your projects in here."
   ]
  },
  {
   "cell_type": "markdown",
   "metadata": {},
   "source": [
    "###### ---------------------------------------------------------------------------------------------------"
   ]
  },
  {
   "cell_type": "markdown",
   "metadata": {},
   "source": [
    "The first line in a Go file needs to be the name of the **package**.\n",
    "Every project (at least if you want to be able to execute it) needs to have a package called `main`.\n",
    "\n",
    "The next section is the **imports**.\n",
    "This is where you can import different packages.\n",
    "There are loads of useful packages in the standard library.\n",
    "A common one is `fmt`, which has functions related to input and output.\n",
    "You use open brackets, and then list all of the packages you want to import (use the `( )` brackets the way you’d use the `{ }` brackets for a loop in C).\n",
    "\n",
    "`import (\n",
    "    \"fmt\"\n",
    "    \"math\"\n",
    ")`\n",
    "\n",
    "\n",
    "Next up, **functions**.\n",
    "You use the `func` keyword followed by the name of the function.\n",
    "The first one you’ll want is `func main`.\n",
    "It takes no arguments and doesn’t return anything, but this is where the program starts.\n",
    "A function called `main` in the package called `main`."
   ]
  },
  {
   "cell_type": "markdown",
   "metadata": {},
   "source": [
    "###### ---------------------------------------------------------------------------------------------------"
   ]
  },
  {
   "cell_type": "markdown",
   "metadata": {},
   "source": [
    "To *run* your program, you can use `go run filename.go` in the terminal, where *filename* is a placeholder for the actual name of your code file.\n",
    "\n",
    "If you want to *compile the code into an executable*, you can use `go build filename.go`.\n",
    "This creates a *binary file executable*, which you can run in the terminal with `./filename`.\n",
    "\n",
    "Alternatively you can use `go install filename.go`.\n",
    "This does something similar, except the executable is put in a `bin` folder (the `bin` folder is in the same location as the `src` folder).\n",
    "It sits in your *workspace* next to the *source folder*, and if the program had external dependencies (ie. you had imported something from outside of the standard library), it would compile and cache those dependencies into a package folder."
   ]
  },
  {
   "cell_type": "markdown",
   "metadata": {},
   "source": [
    "###### ---------------------------------------------------------------------------------------------------"
   ]
  },
  {
   "cell_type": "markdown",
   "metadata": {},
   "source": [
    "To declare a variable, you use the `var` keyword followed by the *name* of the variable and then the *type*.\n",
    "If we don’t provide an initial value, then the zero value for the *type* will be used.\n",
    "Every type has a zero value.\n",
    "For integers, the zero value is literally 0.\n",
    "For strings, the zero value is the empty sting.\n",
    "\n",
    "You could later assign something to this variable, or do it at the same time as declaring it:\n",
    "\n",
    "`var x int\n",
    "x = 5`\n",
    "\n",
    "vs.\n",
    "\n",
    "`var x int = 5`\n",
    "\n",
    "\n",
    "When we give variables an initial value like we’re doing above, there’s a shorthand syntax that we can use.\n",
    "We can drop the `var`, add a colon `:` and an equals `=`, and then the value. We can omit the type because Go can infer it, like so:\n",
    "\n",
    "`x := 5`\n",
    "\n",
    "An example of both the super-long-hand, long-hand, and short-hand versions of this in code can be seen below:"
   ]
  },
  {
   "cell_type": "code",
   "execution_count": null,
   "metadata": {},
   "outputs": [],
   "source": [
    "//SUPER-LONG-HAND\n",
    "\n",
    "//start\n",
    "package main\n",
    "\n",
    "//import\n",
    "import (\n",
    "    \"fmt\"\n",
    ")\n",
    "\n",
    "//function\n",
    "func main() {\n",
    "    var x int\n",
    "    x = 5\n",
    "    var y int\n",
    "    y = 7\n",
    "    var sum int\n",
    "    sum = x + y\n",
    "    \n",
    "    fmt.Println(sum)\n",
    "}\n",
    "\n",
    "//end"
   ]
  },
  {
   "cell_type": "markdown",
   "metadata": {},
   "source": [
    "vs."
   ]
  },
  {
   "cell_type": "code",
   "execution_count": null,
   "metadata": {},
   "outputs": [],
   "source": [
    "//LONG-HAND\n",
    "\n",
    "//start\n",
    "package main\n",
    "\n",
    "//import\n",
    "import (\n",
    "    \"fmt\"\n",
    ")\n",
    "\n",
    "//function\n",
    "func main() {\n",
    "    var x int = 5\n",
    "    var y int = 7\n",
    "    var sum int = x + y\n",
    "    \n",
    "    fmt.Println(sum)\n",
    "}\n",
    "\n",
    "//end"
   ]
  },
  {
   "cell_type": "markdown",
   "metadata": {},
   "source": [
    "vs."
   ]
  },
  {
   "cell_type": "code",
   "execution_count": null,
   "metadata": {},
   "outputs": [],
   "source": [
    "//SHORT-HAND\n",
    "\n",
    "//start\n",
    "package main\n",
    "\n",
    "//import\n",
    "import (\n",
    "    \"fmt\"\n",
    ")\n",
    "\n",
    "//function\n",
    "func main() {\n",
    "    x:= 5\n",
    "    y := 7\n",
    "    sum := x + y\n",
    "    \n",
    "    fmt.Println(sum)\n",
    "}\n",
    "\n",
    "//end"
   ]
  },
  {
   "cell_type": "markdown",
   "metadata": {},
   "source": [
    "###### ---------------------------------------------------------------------------------------------------"
   ]
  },
  {
   "cell_type": "markdown",
   "metadata": {},
   "source": [
    "Go has `if` statements. They allow you to execute a block of code if a condition is true. Note that there are **NO brackets around the condition**."
   ]
  },
  {
   "cell_type": "code",
   "execution_count": null,
   "metadata": {},
   "outputs": [],
   "source": [
    "//previous code.... \n",
    "    if x > 6 {\n",
    "        //stuff happens\n",
    "    }\n",
    "//code continues..."
   ]
  },
  {
   "cell_type": "markdown",
   "metadata": {},
   "source": [
    "Also available is `else if` and `else`."
   ]
  },
  {
   "cell_type": "markdown",
   "metadata": {},
   "source": [
    "###### ---------------------------------------------------------------------------------------------------"
   ]
  },
  {
   "cell_type": "markdown",
   "metadata": {},
   "source": [
    "Now let us look at **arrays**. Arrays hold multiple elements of the same type, but the number of elements that an array holds is fixed (it has a specific length).\n",
    "\n",
    "For example, we could create an array that holds 5 intergers (`int`), as seen below:"
   ]
  },
  {
   "cell_type": "code",
   "execution_count": null,
   "metadata": {},
   "outputs": [],
   "source": [
    "//start\n",
    "package main\n",
    "\n",
    "//import\n",
    "import (\n",
    "    \"fmt\"\n",
    ")\n",
    "\n",
    "//function\n",
    "func main() {\n",
    "    var a [5]int\n",
    "    fmt.Println(a)\n",
    "}\n",
    "\n",
    "//end"
   ]
  },
  {
   "cell_type": "markdown",
   "metadata": {},
   "source": [
    "When output this we can see that it does indeed hold 5 intergers, as we get the following:\n",
    "\n",
    "`[0 0 0 0 0]`\n",
    "\n",
    "All of their elements will be initialized with their type zero value. In the case of arrays, this is the number 0.\n",
    "\n",
    "We can use square brackets `[]` to index the arrays, or we could set element at position 2 to be the number 7 (as in example shown below):"
   ]
  },
  {
   "cell_type": "code",
   "execution_count": null,
   "metadata": {},
   "outputs": [],
   "source": [
    "//start\n",
    "package main\n",
    "\n",
    "//import\n",
    "import (\n",
    "    \"fmt\"\n",
    ")\n",
    "\n",
    "//function\n",
    "func main() {\n",
    "    var a [5]int\n",
    "    a[2] = 7\n",
    "    fmt.Println(a)\n",
    "}\n",
    "\n",
    "//end"
   ]
  },
  {
   "cell_type": "markdown",
   "metadata": {},
   "source": [
    "The above code spits out \n",
    "\n",
    "`[0 0 7 0 0]`\n",
    "\n",
    "informing us that arrays are zero index, meaning the first element is at location zero (array starts at zero instead of at one (0, 1, 2, 3 instead of 1, 2, 3, 4)). This makes the arrays in Go more similar to the ones in C, Java, and Python, than the ones in Fortran or Matlab.\n",
    "\n",
    "If you want to be able to initialize the content more easily, you can use the shorthand syntax again. To do this, you once again drop the `var`, use a colon `:` and an equal sign `=`, and insert curly brackets `{}` at the end of the line. You can then list out your values in those curly brackets. This leaves the code looking like this:"
   ]
  },
  {
   "cell_type": "code",
   "execution_count": null,
   "metadata": {},
   "outputs": [],
   "source": [
    "//start\n",
    "package main\n",
    "\n",
    "//import\n",
    "import (\n",
    "    \"fmt\"\n",
    ")\n",
    "\n",
    "//function\n",
    "func main() {\n",
    "    a := [5]int{5, 4, 3, 2, 1}\n",
    "    fmt.Println(a)\n",
    "}\n",
    "\n",
    "//end"
   ]
  },
  {
   "cell_type": "markdown",
   "metadata": {},
   "source": [
    "This prints out\n",
    "\n",
    "`[5 4 3 2 1]`\n",
    "\n",
    "just like we'd expect.\n",
    "\n",
    "Now you may be thinking that arrays with a fixed length sound pretty inconvenient and you'd be right, they often are. If I wanted to add a sixth element to this array, I couldn/t do it, because the length of the array is part of the array's type. To overcome this, you can use **slices**. Slices are an abstraction ocer the top of arrays to make them easier  to work with, namely, they don't have a fixed number of elements.\n",
    "\n",
    "So, if we wanted to make a **slice element** instead of an **array element**, we would simply remove the element count and leave an empty set of square brackets (as seen below):"
   ]
  },
  {
   "cell_type": "code",
   "execution_count": null,
   "metadata": {},
   "outputs": [],
   "source": [
    "//start\n",
    "package main\n",
    "\n",
    "//import\n",
    "import (\n",
    "    \"fmt\"\n",
    ")\n",
    "\n",
    "//function\n",
    "func main() {\n",
    "    a := []int{5, 4, 3, 2, 1}\n",
    "    fmt.Println(a)\n",
    "}\n",
    "\n",
    "//end"
   ]
  },
  {
   "cell_type": "markdown",
   "metadata": {},
   "source": [
    "Now when we run this code and get \n",
    "\n",
    "`[5 4 3 2 1]`\n",
    "\n",
    "that answer is a *slice* event not an *array* event.\n",
    "\n",
    "So, why is this useful? Well, now we can use the built-in `append` function to add something new to the end of the slice. Append doesn't modify the original slice, instead, it returns a new one (as shown below):"
   ]
  },
  {
   "cell_type": "code",
   "execution_count": null,
   "metadata": {},
   "outputs": [],
   "source": [
    "//start\n",
    "package main\n",
    "\n",
    "//import\n",
    "import (\n",
    "    \"fmt\"\n",
    ")\n",
    "\n",
    "//function\n",
    "func main() {\n",
    "    a := []int{5, 4, 3, 2, 1}\n",
    "    a = append(a, 13)\n",
    "    fmt.Println(a)\n",
    "}\n",
    "\n",
    "//end"
   ]
  },
  {
   "cell_type": "markdown",
   "metadata": {},
   "source": [
    "Slices are backed by arrays, meaning the above code will be creating a new array in the background and copying stuff accross, but when you use slices you don't have to worry about it as it all happens behind the scenes.\n",
    "\n",
    "The above code would print\n",
    "\n",
    "`[5 4 3 2 1 13]`\n",
    "\n",
    "when run in terminal."
   ]
  },
  {
   "cell_type": "markdown",
   "metadata": {},
   "source": [
    "###### ---------------------------------------------------------------------------------------------------"
   ]
  },
  {
   "cell_type": "markdown",
   "metadata": {},
   "source": [
    "**Maps** are really useful, they hold key value pairs. They're like dictionaries in Python or associative arrays in PHP (who knows, maybe I'll take it upon myself to learn PHP someday as well). The type definition for map is the world `map`, and in square brackets `[]` the type of the keys, followed by the type of values in the map. To create a map, you use the built-in `make` function, and give it this type ( `make(map[string]int)` ).\n",
    "\n",
    "We can set key value pairs by indexing the square brackets `[]` (it is similar to indexing arrays).\n",
    "\n",
    "This would look like:"
   ]
  },
  {
   "cell_type": "code",
   "execution_count": null,
   "metadata": {},
   "outputs": [],
   "source": [
    "//start\n",
    "package main\n",
    "\n",
    "//import\n",
    "import (\n",
    "    \"fmt\"\n",
    ")\n",
    "\n",
    "//function\n",
    "func main() {\n",
    "    vertices := make(map[string]int)\n",
    "    \n",
    "    vertices[\"triangle\"] = 2\n",
    "    vertices[\"square\"] = 3\n",
    "    vertices[\"dodecagon\"] = 12\n",
    "    \n",
    "    fmt.Println(vertices)\n",
    "}\n",
    "\n",
    "//end"
   ]
  },
  {
   "cell_type": "markdown",
   "metadata": {},
   "source": [
    "Running this code from the terminal returns:\n",
    "\n",
    "`map[dodecagon:12 triangle:2 square:3]`\n",
    "\n",
    "You can also use the same syntax to get the value for a particular key (as shown below):"
   ]
  },
  {
   "cell_type": "code",
   "execution_count": null,
   "metadata": {},
   "outputs": [],
   "source": [
    "//start\n",
    "package main\n",
    "\n",
    "//import\n",
    "import (\n",
    "    \"fmt\"\n",
    ")\n",
    "\n",
    "//function\n",
    "func main() {\n",
    "    vertices := make(map[string]int)\n",
    "    \n",
    "    vertices[\"triangle\"] = 2\n",
    "    vertices[\"square\"] = 3\n",
    "    vertices[\"dodecagon\"] = 12\n",
    "    \n",
    "    fmt.Println(vertices[\"triangle\"])\n",
    "}\n",
    "\n",
    "//end"
   ]
  },
  {
   "cell_type": "markdown",
   "metadata": {},
   "source": [
    "Running this code returns\n",
    "\n",
    "`2`\n",
    "\n",
    "in the terminal.\n",
    "\n",
    "You can also use the `delete` function to remove something from the map (as seen below):"
   ]
  },
  {
   "cell_type": "code",
   "execution_count": null,
   "metadata": {},
   "outputs": [],
   "source": [
    "//start\n",
    "package main\n",
    "\n",
    "//import\n",
    "import (\n",
    "    \"fmt\"\n",
    ")\n",
    "\n",
    "//function\n",
    "func main() {\n",
    "    vertices := make(map[string]int)\n",
    "\n",
    "    vertices[\"triangle\"] = 2\n",
    "    vertices[\"square\"] = 3\n",
    "    vertices[\"dodecagon\"] = 12\n",
    "\n",
    "    delete(vertices, \"square\")\n",
    "\n",
    "    fmt.Println(vertices)\n",
    "}\n",
    "\n",
    "//end"
   ]
  },
  {
   "cell_type": "markdown",
   "metadata": {},
   "source": [
    "And as we can see in our result\n",
    "\n",
    "`map[dodecagon:12 triangle:2]`\n",
    "\n",
    "the saquare has been deleted (is now gone)."
   ]
  },
  {
   "cell_type": "markdown",
   "metadata": {},
   "source": [
    "###### ---------------------------------------------------------------------------------------------------"
   ]
  },
  {
   "cell_type": "markdown",
   "metadata": {},
   "source": [
    "Next up, we have **loops**. The only type of loop in Go is the `for` loop.\n",
    "\n",
    "We declare and initialize a variable using the shorthand syntax explained farther above. We add a semicolon `;` as a counter, then we set the stopping condition (in the example below, the stopping condition is \"while i is less than 5\" `i < 5`), and after another semicolon `;` we can increment/decrement/do-whatever-we-want-to the counter at the end of each iteration (in the example code below we increment it by 1 each iteration)."
   ]
  },
  {
   "cell_type": "code",
   "execution_count": null,
   "metadata": {},
   "outputs": [],
   "source": [
    "//start\n",
    "package main\n",
    "\n",
    "//import\n",
    "import (\n",
    "    \"fmt\"\n",
    ")\n",
    "\n",
    "//function\n",
    "func main() {\n",
    "    for i := 0; i < 5; i++ {\n",
    "        fmt.Println(i)\n",
    "    }\n",
    "}\n",
    "\n",
    "//end"
   ]
  },
  {
   "cell_type": "markdown",
   "metadata": {},
   "source": [
    "Running this code outputs:\n",
    "\n",
    "`0\n",
    "1\n",
    "2\n",
    "3\n",
    "4`\n",
    "\n",
    "This shows that the loop goes through five times (i=0, i=1, i=2, i=3, & i=4), which is exacty what we want.\n",
    "\n",
    "The `for` loop also doubles as a `while` loop, so if you delete the variable decloration from the beggining and the increment at the end, you've got a while loop (as shown below):"
   ]
  },
  {
   "cell_type": "code",
   "execution_count": null,
   "metadata": {},
   "outputs": [],
   "source": [
    "//start\n",
    "package main\n",
    "\n",
    "//import\n",
    "import (\n",
    "    \"fmt\"\n",
    ")\n",
    "\n",
    "//function\n",
    "func main() {\n",
    "    i := 0\n",
    "    for i < 5 {\n",
    "        fmt.Println(i)\n",
    "    i++\n",
    "    }\n",
    "}\n",
    "\n",
    "//end"
   ]
  },
  {
   "cell_type": "markdown",
   "metadata": {},
   "source": [
    "This should output the same as before, and after running it though terminal we can see that it does:\n",
    "\n",
    "`0\n",
    "1\n",
    "2\n",
    "3\n",
    "4`\n",
    "\n",
    "Another thing you can do with a loop is iterate over each element in an array or a slice by using `range`. We get the `index` and the `value` out of doing range of an array. Print line `Println` has a feature where you can pass multiple arguements to it, and it'll output all of them seperated by spaces. This can be seen in the script below:"
   ]
  },
  {
   "cell_type": "code",
   "execution_count": null,
   "metadata": {},
   "outputs": [],
   "source": [
    "//start\n",
    "package main\n",
    "\n",
    "//import\n",
    "import (\n",
    "    \"fmt\"\n",
    ")\n",
    "\n",
    "//function\n",
    "func main() {\n",
    "    arr := []string{\"a\", \"b\", \"c\"}\n",
    "    for index, value := range arr {\n",
    "        fmt.Println(\"index\", index, \"value\", value)\n",
    "    }\n",
    "}\n",
    "\n",
    "//end"
   ]
  },
  {
   "cell_type": "markdown",
   "metadata": {},
   "source": [
    "This code outputs:\n",
    "\n",
    "`index 0 value a\n",
    "index 1 value b\n",
    "index 2 value c`\n",
    "\n",
    "You can also do the same thing with a `map`, but you'll get the `key` instead of the `index` (as seen below):"
   ]
  },
  {
   "cell_type": "code",
   "execution_count": null,
   "metadata": {},
   "outputs": [],
   "source": [
    "//start\n",
    "package main\n",
    "\n",
    "//import\n",
    "import (\n",
    "    \"fmt\"\n",
    ")\n",
    "\n",
    "//function\n",
    "func main() {\n",
    "    m := make(map[string]string)\n",
    "    m[\"a\"] = \"alpha\"\n",
    "    m[\"b\"] = \"beta\"\n",
    "\n",
    "    for key, value := range m {\n",
    "        fmt.Println(\"key\", key, \"value\", value)\n",
    "    }\n",
    "}\n",
    "\n",
    "//end"
   ]
  },
  {
   "cell_type": "markdown",
   "metadata": {},
   "source": [
    "Which outputs:\n",
    "\n",
    "`key a value alpha\n",
    "key b value beta`\n",
    "\n",
    "So far, we've had everything in the main function, but we could easily create a new function. If you want to accept arguements, you just need to give them a name under `type` and if you want to return a value, then you need to give the type of that value after the brackets `()`. This is shown in the code below:"
   ]
  },
  {
   "cell_type": "code",
   "execution_count": null,
   "metadata": {},
   "outputs": [],
   "source": [
    "//start\n",
    "package main\n",
    "\n",
    "//import\n",
    "import (\n",
    "    \"fmt\"\n",
    ")\n",
    "\n",
    "//function\n",
    "func main() {\n",
    "    result := sum(2, 3)\n",
    "    fmt.Println(result)\n",
    "}\n",
    "\n",
    "func sum(x int, y int) int {\n",
    "    return x + y\n",
    "}\n",
    "\n",
    "//end"
   ]
  },
  {
   "cell_type": "markdown",
   "metadata": {},
   "source": [
    "So the above code is going to take two intergers, and return a different `int`. I made it simple easy by chosing to sum them. We can then call on it up up in the main function. Running this code would print:\n",
    "\n",
    "`5`\n",
    "\n",
    "which is good, because 2 + 3 was definitely equal to 5 last time I checked!\n",
    "\n",
    "In Go, functions can have multiple return values, so if I made a square root function which takes a `float64` (double-precision / floating-point occupying 64 bits in computer memory), it can return another `float64` and it can also return `error` as these are all built-in types. Since the square roots of negative numbers are *complex numbers*, we could limit this function to positive inputs only, returning an error if `x` is less than zero. So, we want to return two values. The first one is the `float64` (we're not doing the calculation so I'll just return zero), and then we can use the new function in the `errors` package (which we have to import) to create an error. Otherwise, we can do the square root. There is actually a square root function in the `math` package, so we can just defer to that. We still do need to return two values though, and in this situation we don't want to return an error, so I'll just return `nil` instead of the error. So now when we call our square root function, we get two values. We get the result and we get an error. If the error is not `nil` (`if err != nil`), then that means something has gone wrong, so we'll just output that, otherwise, we'll output the result. All of this is shown in the code below:"
   ]
  },
  {
   "cell_type": "code",
   "execution_count": null,
   "metadata": {},
   "outputs": [],
   "source": [
    "//start\n",
    "package main\n",
    "\n",
    "//import\n",
    "import (\n",
    "    \"errors\"\n",
    "    \"fmt\"\n",
    "    \"math\"\n",
    ")\n",
    "\n",
    "//function\n",
    "func main() {\n",
    "    result, err := sqrt(16)\n",
    "\n",
    "    if err != nil {\n",
    "        fmt.Println(err)\n",
    "    } else {\n",
    "        fmt.Println(result)\n",
    "    }\n",
    "}\n",
    "\n",
    "func sqrt(x float64) (float64, error) {\n",
    "    if x < 0 {\n",
    "        return 0, errors.New(\"Undefined for negative numbers\")\n",
    "    }\n",
    "\n",
    "    return math.Sqrt(x), nil\n",
    "}\n",
    "\n",
    "//end"
   ]
  },
  {
   "cell_type": "markdown",
   "metadata": {},
   "source": [
    "When ran, this code writes:\n",
    "\n",
    "`4`\n",
    "\n",
    "in the terminal, which is great, seeing as √16 = 4. This means that the code can do the square root of a positive number. If we were to make the 16 negative as shown in the code below, we should recieve an error."
   ]
  },
  {
   "cell_type": "code",
   "execution_count": null,
   "metadata": {},
   "outputs": [],
   "source": [
    "//start\n",
    "package main\n",
    "\n",
    "//import\n",
    "import (\n",
    "    \"errors\"\n",
    "    \"fmt\"\n",
    "    \"math\"\n",
    ")\n",
    "\n",
    "//function\n",
    "func main() {\n",
    "    result, err := sqrt(-16)\n",
    "\n",
    "    if err != nil {\n",
    "        fmt.Println(err)\n",
    "    } else {\n",
    "        fmt.Println(result)\n",
    "    }\n",
    "}\n",
    "\n",
    "func sqrt(x float64) (float64, error) {\n",
    "    if x < 0 {\n",
    "        return 0, errors.New(\"Undefined for negative numbers\")\n",
    "    }\n",
    "\n",
    "    return math.Sqrt(x), nil\n",
    "}\n",
    "\n",
    "//end"
   ]
  },
  {
   "cell_type": "markdown",
   "metadata": {},
   "source": [
    "And would you look at that, running this gives us an error, just like we'd expect!\n",
    "\n",
    "`Undefined for negative numbers`\n",
    "\n",
    "So that is how functions with multiple return values work. It is really useful to return `errors` like this, becuase Go doesn't have exeptions, which many people are used to using in other languages."
   ]
  },
  {
   "cell_type": "markdown",
   "metadata": {},
   "source": [
    "###### ---------------------------------------------------------------------------------------------------"
   ]
  },
  {
   "cell_type": "markdown",
   "metadata": {},
   "source": [
    "A `struct` is a collection of fields, so you can group things together to create a more logical type. To create a `struct` type, you want to go outisde of the function and use the word `type`, followed by the name (this can be anything you want), followed by the word `struct`. Inside curly brackets `{}` you can list out fields that you want the `struct` to have. Each field needs to have a name and a type. In the example I make it a `string` and an `int`, though it could be literally anything (it could even be another `struct`). So that is the type. To create a `struct` of that type, you want to use the name of it, and then (just like when you initialized an array or slice) you can use curly brackets `{}` to change the fields. In the example below, first I set the field called `name`, then use a colon `:`, and then the value. My example can be seen below:"
   ]
  },
  {
   "cell_type": "code",
   "execution_count": null,
   "metadata": {},
   "outputs": [],
   "source": [
    "//start\n",
    "package main\n",
    "\n",
    "//import\n",
    "import (\n",
    "    \"fmt\"\n",
    ")\n",
    "\n",
    "//function\n",
    "type person struct {\n",
    "    name string\n",
    "    age  int\n",
    "}\n",
    "\n",
    "func main() {\n",
    "    p := person{name: \"Adam\", age: 21}\n",
    "    fmt.Println(p)\n",
    "}\n",
    "\n",
    "//end"
   ]
  },
  {
   "cell_type": "markdown",
   "metadata": {},
   "source": [
    "If we output this, we will see that it has created a `struct`:\n",
    "\n",
    "`{Adam 21}`\n",
    "\n",
    "If you want to get a specific field out of the `struct`, then you can use dot notation to do that. This looks as follows:"
   ]
  },
  {
   "cell_type": "code",
   "execution_count": null,
   "metadata": {},
   "outputs": [],
   "source": [
    "//start\n",
    "package main\n",
    "\n",
    "//import\n",
    "import (\n",
    "    \"fmt\"\n",
    ")\n",
    "\n",
    "//function\n",
    "type person struct {\n",
    "    name string\n",
    "    age  int\n",
    "}\n",
    "\n",
    "func main() {\n",
    "    p := person{name: \"Adam\", age: 21}\n",
    "    fmt.Println(p.age)\n",
    "}\n",
    "\n",
    "//end"
   ]
  },
  {
   "cell_type": "markdown",
   "metadata": {},
   "source": [
    "This will now only output\n",
    "\n",
    "`21`"
   ]
  },
  {
   "cell_type": "markdown",
   "metadata": {},
   "source": [
    "###### ---------------------------------------------------------------------------------------------------"
   ]
  },
  {
   "cell_type": "markdown",
   "metadata": {},
   "source": [
    "The last thing we will discuss in this notebook is **pointers**. If I have a variable (as we've seen it's really easy to output that), but we can also ge the *memory address* of the variable by using an ampersand `&`, which gives us a pointer (in the example below, this is a pointer to `i`)."
   ]
  },
  {
   "cell_type": "code",
   "execution_count": null,
   "metadata": {},
   "outputs": [],
   "source": [
    "//start\n",
    "package main\n",
    "\n",
    "//import\n",
    "import (\n",
    "    \"fmt\"\n",
    ")\n",
    "\n",
    "//function\n",
    "func main() {\n",
    "    i := 7\n",
    "    fmt.Println(&i)\n",
    "}\n",
    "\n",
    "//end"
   ]
  },
  {
   "cell_type": "markdown",
   "metadata": {},
   "source": [
    "Running this on my computer returned\n",
    "\n",
    "`0xc420014078`\n",
    "\n",
    "Now if I had a function which incrimented a variable and we recalled it (like in the example below), it would be useless and not actually do anything because `i` is copied by value. So the increment function gets a copy of `i`, it increments that, but since we're not returning anything, that copy is just discarded, and the original variable is not modified. "
   ]
  },
  {
   "cell_type": "code",
   "execution_count": null,
   "metadata": {},
   "outputs": [],
   "source": [
    "//start\n",
    "package main\n",
    "\n",
    "//import\n",
    "import (\n",
    "    \"fmt\"\n",
    ")\n",
    "\n",
    "//function\n",
    "func main() {\n",
    "    i := 7\n",
    "    inc(i)\n",
    "    fmt.Println(&i)\n",
    "}\n",
    "\n",
    "func inc(x int) {\n",
    "    x++\n",
    "}\n",
    "\n",
    "//end"
   ]
  },
  {
   "cell_type": "markdown",
   "metadata": {},
   "source": [
    "If however we passed a pointer to the variable, then the function is going to be able to look at the value at that memory reference, modify the original version. So if we can accept a pointer by prefixing the type with an asterisk `*`, we can send the pointer by using ampersand `&`. What we need to do now is dereference the pointer, so we use another asterisk `*` in front of `x++`. Without that, this is going to be incrementing the memory address, but that is useless. We want to see what's *at* that memory address, using the asterisks `*`, dereference it, and then increment that value. This is shown in the code below:"
   ]
  },
  {
   "cell_type": "code",
   "execution_count": null,
   "metadata": {},
   "outputs": [],
   "source": [
    "//start\n",
    "package main\n",
    "\n",
    "//import\n",
    "import (\n",
    "    \"fmt\"\n",
    ")\n",
    "\n",
    "//function\n",
    "func main() {\n",
    "    i := 7\n",
    "    inc(&i)\n",
    "    fmt.Println(i)\n",
    "}\n",
    "\n",
    "func inc(x *int) {\n",
    "    *x++\n",
    "}\n",
    "\n",
    "//end"
   ]
  },
  {
   "cell_type": "markdown",
   "metadata": {},
   "source": [
    "So now this actually does modify the original `i` value, which we can see when we run the function, getting:\n",
    "\n",
    "`8`"
   ]
  },
  {
   "cell_type": "markdown",
   "metadata": {},
   "source": [
    "    "
   ]
  }
 ],
 "metadata": {
  "kernelspec": {
   "display_name": "Go (lgo)",
   "language": "go",
   "name": "lgo"
  },
  "language_info": {
   "file_extension": "",
   "mimetype": "",
   "name": "go",
   "version": ""
  }
 },
 "nbformat": 4,
 "nbformat_minor": 2
}
