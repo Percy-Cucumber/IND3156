{
 "cells": [
  {
   "cell_type": "markdown",
   "metadata": {},
   "source": [
    "# Learning & Exploring the Go Language\n",
    "###### My notebook for everything to do with Golang."
   ]
  },
  {
   "cell_type": "markdown",
   "metadata": {},
   "source": [
    "   "
   ]
  },
  {
   "cell_type": "markdown",
   "metadata": {},
   "source": [
    "# The Basics\n",
    "###### Stuff I learned while writing my \"Hello World\" code.\n",
    "- You must start every program with `package main` if there are going to be any executable commands in your code.\n",
    "- Comments are written with a double slash. This comments out the rest of the line after the `//`.\n",
    "- Loops are started with `{` and ended with `}`.\n",
    "\n",
    "#### How to Execute Code:\n",
    "- Running the code: `go run filename.go`\n",
    "- Making an executable: `go build filename.go`\n",
    "- Running the executible: `./filename`\n",
    "- Creating a binary executable (bin): `go install filename.go`"
   ]
  },
  {
   "cell_type": "markdown",
   "metadata": {},
   "source": [
    "   "
   ]
  },
  {
   "cell_type": "markdown",
   "metadata": {},
   "source": [
    "# Example Code - Hello World\n",
    "Annotaded example of how to write \"Hello World\" in the Go Language. This is the first code in Golang I have written."
   ]
  },
  {
   "cell_type": "code",
   "execution_count": null,
   "metadata": {},
   "outputs": [],
   "source": [
    "//start\n",
    "package main //must always use package main if there are going to be any executable commands\n",
    "\n",
    "//import\n",
    "import \"fmt\" //imports package similar to C's printf and scanf\n",
    "\n",
    "//print\n",
    "func main() { //main function -> start function (must always be included)\n",
    "\tfmt.Println(\"Hello World\") //print Hello World\n",
    "} //end function\n",
    "\n",
    "//end"
   ]
  },
  {
   "cell_type": "markdown",
   "metadata": {},
   "source": [
    "The above code returns\n",
    "\n",
    "`Hello World`\n",
    "\n",
    "when run via the terminal."
   ]
  },
  {
   "cell_type": "markdown",
   "metadata": {},
   "source": [
    "###### ---------------------------------------------------------------------------------------------------"
   ]
  },
  {
   "cell_type": "markdown",
   "metadata": {},
   "source": [
    "# Go Commands\n",
    "###### As defined in in Golang's startup"
   ]
  },
  {
   "cell_type": "code",
   "execution_count": null,
   "metadata": {},
   "outputs": [],
   "source": [
    "build       compile packages and dependencies\n",
    "clean       remove object files and cached files\n",
    "doc         show documentation for package or symbol\n",
    "env         print Go environment information\n",
    "bug         start a bug report\n",
    "fix         update packages to use new APIs\n",
    "fmt         gofmt (reformat) package sources\n",
    "generate    generate Go files by processing source\n",
    "get         download and install packages and dependencies\n",
    "install     compile and install packages and dependencies\n",
    "list        list packages\n",
    "run         compile and run Go program\n",
    "test        test packages\n",
    "tool        run specified go tool\n",
    "version     print Go version\n",
    "vet         report likely mistakes in packages"
   ]
  },
  {
   "cell_type": "markdown",
   "metadata": {},
   "source": [
    "# Additional Help Topics\n",
    "###### As defined in Golang's startup"
   ]
  },
  {
   "cell_type": "code",
   "execution_count": null,
   "metadata": {},
   "outputs": [],
   "source": [
    "c           calling between Go and C\n",
    "buildmode   build modes\n",
    "cache       build and test caching\n",
    "filetype    file types\n",
    "gopath      GOPATH environment variable\n",
    "environment environment variables\n",
    "importpath  import path syntax\n",
    "packages    package lists\n",
    "testflag    testing flags\n",
    "testfunc    testing functions"
   ]
  },
  {
   "cell_type": "markdown",
   "metadata": {},
   "source": [
    "# Go Syntax\n",
    "###### How to write stuff in the Go Language (referenced: https://blog.golang.org/gos-declaration-syntax)."
   ]
  },
  {
   "cell_type": "markdown",
   "metadata": {},
   "source": [
    "Languages outside the C family usually use a distinct type syntax in declarations. Although it's a separate point, the name usually comes first, often followed by a colon. For example, you could have:\n",
    "\n",
    "`x: int\n",
    "p: pointer to int\n",
    "a: array[3] of int`\n",
    "\n",
    "These declarations are clear, if verbose - you just read them left to right. Go takes its cue from here, but in the interests of brevity it drops the colon and removes some of the keywords:\n",
    "\n",
    "`x int\n",
    "p *int\n",
    "a [3]int1`\n",
    "\n",
    "There is no direct correspondence between the look of [3]int and how to use a in an expression. You gain clarity at the cost of a separate syntax.\n",
    "\n",
    "Now consider functions. Let's transcribe the declaration for main as it would read in Go, although the real main function in Go takes no arguments:\n",
    "\n",
    "`func main(argc int, argv []string) int`\n",
    "\n",
    "Superficially that's not much different from C, other than the change from char arrays to strings, but it reads well from left to right:\n",
    "\n",
    "function main takes an int and a slice of strings and returns an int.\n",
    "\n",
    "Drop the parameter names and it's just as clear - they're always first so there's no confusion.\n",
    "\n",
    "`func main(int, []string) int`\n",
    "\n",
    "One merit of this left-to-right style is how well it works as the types become more complex. Here's a declaration of a function variable (analogous to a function pointer in C):\n",
    "\n",
    "`f func(func(int,int) int, int) int`\n",
    "\n",
    "Or if f returns a function:\n",
    "\n",
    "`f func(func(int,int) int, int) func(int, int) int`\n",
    "\n",
    "It still reads clearly, from left to right, and it's always obvious which name is being declared - the name comes first.\n",
    "\n",
    "The distinction between type and expression syntax makes it easy to write and invoke closures in Go:\n",
    "\n",
    "`\n",
    "sum := func(a, b int) int { return a+b } (3, 4)\n",
    "`"
   ]
  },
  {
   "cell_type": "markdown",
   "metadata": {},
   "source": [
    "#### Pointers in Golang:"
   ]
  },
  {
   "cell_type": "markdown",
   "metadata": {},
   "source": [
    "Pointers are the exception that proves the rule. Notice that in arrays and slices, for instance, Go's type syntax puts the brackets on the left of the type but the expression syntax puts them on the right of the expression:\n",
    "\n",
    "`var a []int`\n",
    "\n",
    "`x = a[1]`\n",
    "\n",
    "For familiarity, Go's pointers use the * notation from C, but the developers could not bring themselves to make a similar reversal for pointer types. Thus, pointers work as follows:\n",
    "\n",
    "`var p *int`\n",
    "\n",
    "`x = *p`\n",
    "\n",
    "We could NOT say:\n",
    "\n",
    "\n",
    "`var p *int`\n",
    "\n",
    "`x = p*`\n",
    "\n",
    "because that postfix * would conflate with multiplication. The prefix asterisk on both types and expressions complicates things in a number of ways. For instance, although one can write:\n",
    "\n",
    "`[]int(\"hi\")`\n",
    "\n",
    "as a conversion, one must parenthesize the type if it starts with a *:\n",
    "\n",
    "`(*int)(nil)`\n",
    "\n",
    "So, Go's pointer syntax is tied to the familiar C form, but those ties mean that we cannot break completely from using parentheses to disambiguate types and expressions in the grammar. The syntax is however much easier to understand than C's."
   ]
  },
  {
   "cell_type": "markdown",
   "metadata": {},
   "source": [
    "     "
   ]
  }
 ],
 "metadata": {
  "kernelspec": {
   "display_name": "Go (lgo)",
   "language": "go",
   "name": "lgo"
  },
  "language_info": {
   "file_extension": "",
   "mimetype": "",
   "name": "go",
   "version": ""
  }
 },
 "nbformat": 4,
 "nbformat_minor": 2
}
