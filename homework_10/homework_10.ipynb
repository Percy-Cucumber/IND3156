{
 "cells": [
  {
   "cell_type": "raw",
   "metadata": {},
   "source": [
    "Quix 6b -> emulating C code using Python"
   ]
  },
  {
   "cell_type": "raw",
   "metadata": {},
   "source": []
  },
  {
   "cell_type": "raw",
   "metadata": {},
   "source": [
    "1) emulating the C program"
   ]
  },
  {
   "cell_type": "code",
   "execution_count": 2,
   "metadata": {},
   "outputs": [
    {
     "name": "stdout",
     "output_type": "stream",
     "text": [
      "6\n",
      "8\n",
      "4\n",
      "6\n",
      "5\n",
      "4\n"
     ]
    }
   ],
   "source": [
    "a = [6,5,4]\n",
    "b = []\n",
    "for i in range(0,len(a)):\n",
    " b.append(a[i])\n",
    "a[1] = 8\n",
    "print(a[0])\n",
    "print(a[1])\n",
    "print(a[2])\n",
    "print(b[0])\n",
    "print(b[1])\n",
    "print(b[2])"
   ]
  },
  {
   "cell_type": "raw",
   "metadata": {},
   "source": []
  },
  {
   "cell_type": "raw",
   "metadata": {},
   "source": [
    "2) pythonic loop (done so we can't see indexing)"
   ]
  },
  {
   "cell_type": "code",
   "execution_count": 3,
   "metadata": {},
   "outputs": [
    {
     "name": "stdout",
     "output_type": "stream",
     "text": [
      "6\n",
      "8\n",
      "4\n",
      "6\n",
      "5\n",
      "4\n"
     ]
    }
   ],
   "source": [
    "a = [6,5,4]\n",
    "b = []\n",
    "for x in a:\n",
    " b.append(x)\n",
    "a[1] = 8\n",
    "print(a[0])\n",
    "print(a[1])\n",
    "print(a[2])\n",
    "print(b[0])\n",
    "print(b[1])\n",
    "print(b[2])"
   ]
  },
  {
   "cell_type": "raw",
   "metadata": {},
   "source": []
  },
  {
   "cell_type": "raw",
   "metadata": {},
   "source": [
    "3) element-by-element command with explicit indexing using shorthand borrowed from matlab [:]"
   ]
  },
  {
   "cell_type": "code",
   "execution_count": 4,
   "metadata": {},
   "outputs": [
    {
     "name": "stdout",
     "output_type": "stream",
     "text": [
      "6\n",
      "8\n",
      "4\n",
      "6\n",
      "5\n",
      "4\n"
     ]
    }
   ],
   "source": [
    "a = [6,5,4]\n",
    "b = a[:]\n",
    "a[1] = 8\n",
    "print(a[0])\n",
    "print(a[1])\n",
    "print(a[2])\n",
    "print(b[0])\n",
    "print(b[1])\n",
    "print(b[2])"
   ]
  }
 ],
 "metadata": {
  "kernelspec": {
   "display_name": "Python 3",
   "language": "python",
   "name": "python3"
  },
  "language_info": {
   "codemirror_mode": {
    "name": "ipython",
    "version": 3
   },
   "file_extension": ".py",
   "mimetype": "text/x-python",
   "name": "python",
   "nbconvert_exporter": "python",
   "pygments_lexer": "ipython3",
   "version": "3.6.5"
  }
 },
 "nbformat": 4,
 "nbformat_minor": 2
}
